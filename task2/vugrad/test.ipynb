{
 "cells": [
  {
   "cell_type": "code",
   "execution_count": 13,
   "metadata": {},
   "outputs": [
    {
     "name": "stdout",
     "output_type": "stream",
     "text": [
      "[[-0.75499683  1.12060124]\n",
      " [ 0.93333161 -0.44160203]]\n",
      "[[ 0.29140426 -0.59145206]\n",
      " [-1.25050846 -1.04023531]]\n",
      "=========\n",
      "[[-0.46359257  0.52914917]\n",
      " [-0.31717685 -1.48183734]]\n",
      "<vugrad.core.OpNode object at 0x7f82495bcfd0>\n",
      "TensorNode[size (2, 2), source None].\n",
      "[[0. 0.]\n",
      " [0. 0.]]\n"
     ]
    }
   ],
   "source": [
    "import vugrad as vg\n",
    "import numpy as np\n",
    "\n",
    "a = vg.TensorNode(np.random.randn(2, 2))\n",
    "b = vg.TensorNode(np.random.randn(2, 2))\n",
    "c = a + b\n",
    "print(a.value)\n",
    "print(b.value)\n",
    "print(\"=========\")\n",
    "print(c.value)\n",
    "print(c.source)\n",
    "print(c.source.inputs[0])\n",
    "print(a.grad)"
   ]
  },
  {
   "cell_type": "code",
   "execution_count": 35,
   "metadata": {},
   "outputs": [
    {
     "name": "stdout",
     "output_type": "stream",
     "text": [
      "[[-2. -1.  0.  1.  2.]]\n",
      "[[0. 0. 0. 1. 2.]]\n",
      "[[0 0 0 1 1]]\n"
     ]
    }
   ],
   "source": [
    "import numpy as np\n",
    "from vugrad import Op\n",
    "\n",
    "\n",
    "class ReLU(Op):\n",
    "    \"\"\"\n",
    "    Op for element-wise application of relu function\n",
    "    \"\"\"\n",
    "\n",
    "    @staticmethod\n",
    "    def forward(context, input):\n",
    "        gtz = input > 0\n",
    "        context[\"gtz\"] = gtz\n",
    "        return np.where(gtz, input, 0)\n",
    "\n",
    "    @staticmethod\n",
    "    def backward(context, goutput):\n",
    "        return np.where(context[\"gtz\"], goutput, 0)\n",
    "\n",
    "n = ReLU()\n",
    "x = np.arange(-2, 3, 1).reshape(1, 5).astype(np.float32)\n",
    "gtz = np.where(x > 0, x, 0)\n",
    "y = np.where(gtz, x, 0)\n",
    "gx = np.where(gtz, 1, 0)\n",
    "print(x)\n",
    "print(y)\n",
    "print(gx)\n",
    "# print(np.where(gtz, x, 0))\n",
    "\n",
    "# context = {}\n",
    "# print(x, n.forward(context, x))\n"
   ]
  }
 ],
 "metadata": {
  "kernelspec": {
   "display_name": "vudl",
   "language": "python",
   "name": "python3"
  },
  "language_info": {
   "codemirror_mode": {
    "name": "ipython",
    "version": 3
   },
   "file_extension": ".py",
   "mimetype": "text/x-python",
   "name": "python",
   "nbconvert_exporter": "python",
   "pygments_lexer": "ipython3",
   "version": "3.8.18"
  }
 },
 "nbformat": 4,
 "nbformat_minor": 2
}
